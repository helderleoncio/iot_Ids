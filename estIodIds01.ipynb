{
 "cells": [
  {
   "cell_type": "markdown",
   "id": "d9809a1a-ee35-4806-afac-a66f2156c64a",
   "metadata": {},
   "source": [
    "## IDS for IoT with Machine Learning Techniques"
   ]
  },
  {
   "cell_type": "code",
   "execution_count": null,
   "id": "0a2638f5-ae85-4ad5-ba2f-c1b453d1680f",
   "metadata": {
    "tags": []
   },
   "outputs": [],
   "source": [
    "# Load python librarys\n",
    "import pandas as pd"
   ]
  },
  {
   "cell_type": "code",
   "execution_count": null,
   "id": "0137c814-58ac-41bb-b89b-57ffaf7f3454",
   "metadata": {
    "tags": []
   },
   "outputs": [],
   "source": [
    "# Load sklearn librarys\n",
    "import sklearn.metrics\n",
    "from sklearn import preprocessing\n",
    "from sklearn.preprocessing import StandardScaler\n",
    "from sklearn.model_selection import train_test_split\n",
    "from sklearn.ensemble import RandomForestClassifier\n",
    "from sklearn.neighbors import KNeighborsClassifier"
   ]
  },
  {
   "cell_type": "code",
   "execution_count": null,
   "id": "eb7c7512-1a23-43f3-8362-f5155fc239b5",
   "metadata": {
    "tags": []
   },
   "outputs": [],
   "source": [
    "# Sets the value of the specified option.\n",
    "pd.set_option('display.max_columns', None)\n",
    "pd.set_option('display.max_rows', None)\n",
    "pd.set_option('mode.use_inf_as_na', True)"
   ]
  },
  {
   "cell_type": "code",
   "execution_count": null,
   "id": "32c8895a-0b2b-4bda-84f7-1ddcd903b0cd",
   "metadata": {
    "tags": []
   },
   "outputs": [],
   "source": [
    "source_path = '../../datasets/IoT_Network_Intrusion.csv'"
   ]
  },
  {
   "cell_type": "code",
   "execution_count": null,
   "id": "a4180bad-dcca-4e72-a657-0b9e0ae191c8",
   "metadata": {
    "tags": []
   },
   "outputs": [],
   "source": [
    "# Load the CSV into a dataframe\n",
    "df = pd.read_csv(source_path, header=0)"
   ]
  },
  {
   "cell_type": "code",
   "execution_count": null,
   "id": "4d269451-6650-420c-8fe8-bfab84ece09c",
   "metadata": {
    "tags": []
   },
   "outputs": [],
   "source": [
    "# Returns the first n rows for the object based on position\n",
    "df.head()"
   ]
  },
  {
   "cell_type": "code",
   "execution_count": null,
   "id": "7f036f05-3ecb-40a4-8226-f1415eddb697",
   "metadata": {
    "tags": []
   },
   "outputs": [],
   "source": [
    "# Count the number of rows and columns in the data set\n",
    "df.shape"
   ]
  },
  {
   "cell_type": "code",
   "execution_count": null,
   "id": "b5999409-a793-4196-a9fb-0ebc83e4ba61",
   "metadata": {
    "tags": []
   },
   "outputs": [],
   "source": [
    "# Returns a series with the data type of each column\n",
    "df.dtypes"
   ]
  },
  {
   "cell_type": "code",
   "execution_count": null,
   "id": "29bec819-7f14-4c05-924f-e65ccc785c6e",
   "metadata": {
    "tags": []
   },
   "outputs": [],
   "source": [
    "# Count the number of empty (NaN, NAN, na) values in each column\n",
    "df.isna().sum()"
   ]
  },
  {
   "cell_type": "code",
   "execution_count": null,
   "id": "f85dfc90-4b71-4702-8edd-12a1ee139d71",
   "metadata": {
    "tags": []
   },
   "outputs": [],
   "source": [
    "# Remove\n",
    "df = df.drop(['Timestamp', 'Flow_ID', 'Src_IP', 'Dst_IP', \n",
    "              'Flow_Byts/s', 'Flow_Pkts/s', 'Label', 'Sub_Cat'], axis=1)"
   ]
  },
  {
   "cell_type": "code",
   "execution_count": null,
   "id": "50128a16-b21b-42d1-a9aa-34ef9c67aa86",
   "metadata": {
    "tags": []
   },
   "outputs": [],
   "source": [
    "# Retorna True na posição em que há uma linha duplicada\n",
    "#df.duplicated()"
   ]
  },
  {
   "cell_type": "code",
   "execution_count": null,
   "id": "14420a10-47d1-496d-a423-60d0d350acbb",
   "metadata": {
    "tags": []
   },
   "outputs": [],
   "source": [
    "# Remove as linhas duplicadas\n",
    "#df = df.drop_duplicates()"
   ]
  },
  {
   "cell_type": "code",
   "execution_count": null,
   "id": "a52e3041-b4ef-4cbf-9155-fe590aeb01c5",
   "metadata": {
    "tags": []
   },
   "outputs": [],
   "source": [
    "le = preprocessing.LabelEncoder()\n",
    "le.fit(df['Cat'])\n",
    "df['Cat']=le.transform(df['Cat'])"
   ]
  },
  {
   "cell_type": "code",
   "execution_count": null,
   "id": "122ba19e-4d73-4b78-b4ba-c16589710940",
   "metadata": {
    "tags": []
   },
   "outputs": [],
   "source": [
    "labels = df.pop('Cat')\n",
    "scaler = StandardScaler()\n",
    "scaler.fit(df.values)\n",
    "df = scaler.transform(df.values)\n",
    "\n",
    "df = pd.DataFrame(df)\n",
    "df['Cat'] = labels"
   ]
  },
  {
   "cell_type": "code",
   "execution_count": null,
   "id": "53d6e87f-86ca-4268-a92f-b4ba2b61df40",
   "metadata": {
    "tags": []
   },
   "outputs": [],
   "source": [
    "df.head()"
   ]
  },
  {
   "cell_type": "code",
   "execution_count": null,
   "id": "4c109699-1d65-4cf6-ba86-b9e0174b6610",
   "metadata": {
    "tags": []
   },
   "outputs": [],
   "source": [
    "data_y = df.pop('Cat').values\n",
    "data_X = df.values"
   ]
  },
  {
   "cell_type": "code",
   "execution_count": null,
   "id": "a98e66ee-8da7-4f26-9605-a1273ef6ce7e",
   "metadata": {
    "tags": []
   },
   "outputs": [],
   "source": [
    "training_X, test_X, training_y, test_y = train_test_split(data_X, data_y, test_size=0.3)"
   ]
  },
  {
   "cell_type": "code",
   "execution_count": null,
   "id": "37f7e455-6cef-459f-a43a-7ab2cc2ce42a",
   "metadata": {
    "tags": []
   },
   "outputs": [],
   "source": [
    "rf = RandomForestClassifier(n_estimators=100, max_features=\"sqrt\", criterion=\"gini\", \n",
    "                            max_depth=100, min_samples_split=2, min_samples_leaf=1)\n",
    "\n",
    "rf.fit(training_X, training_y)\n",
    "\n",
    "rf_predict = rf.predict(test_X)"
   ]
  },
  {
   "cell_type": "code",
   "execution_count": null,
   "id": "4a56bc32-ea3e-4374-9c21-3af50d2195db",
   "metadata": {
    "tags": []
   },
   "outputs": [],
   "source": [
    "acc = sklearn.metrics.accuracy_score(test_y, rf_predict)\n",
    "print('Accuracy: {}'.format(acc))\n",
    "\n",
    "acc_balanced = sklearn.metrics.balanced_accuracy_score(test_y, rf_predict)\n",
    "print('Accuracy balanced: {}'.format(acc_balanced))\n",
    "\n",
    "precision = sklearn.metrics.precision_score(test_y, rf_predict, average=None)\n",
    "print('Precision: {}'.format(acc_balanced))\n",
    "\n",
    "recall = sklearn.metrics.recall_score(test_y, rf_predict, average=None)\n",
    "print('Recall: {}'.format(recall))\n",
    "\n",
    "f1_score = sklearn.metrics.f1_score(test_y, rf_predict, average=None)\n",
    "print('F1_score: {}'.format(f1_score))"
   ]
  }
 ],
 "metadata": {
  "kernelspec": {
   "display_name": "Python 3 (ipykernel)",
   "language": "python",
   "name": "python3"
  },
  "language_info": {
   "codemirror_mode": {
    "name": "ipython",
    "version": 3
   },
   "file_extension": ".py",
   "mimetype": "text/x-python",
   "name": "python",
   "nbconvert_exporter": "python",
   "pygments_lexer": "ipython3",
   "version": "3.9.6"
  }
 },
 "nbformat": 4,
 "nbformat_minor": 5
}
